{
 "cells": [
  {
   "cell_type": "code",
   "execution_count": 3,
   "id": "1539bf7d",
   "metadata": {},
   "outputs": [
    {
     "data": {
      "text/html": [
       "<div>\n",
       "<style scoped>\n",
       "    .dataframe tbody tr th:only-of-type {\n",
       "        vertical-align: middle;\n",
       "    }\n",
       "\n",
       "    .dataframe tbody tr th {\n",
       "        vertical-align: top;\n",
       "    }\n",
       "\n",
       "    .dataframe thead th {\n",
       "        text-align: right;\n",
       "    }\n",
       "</style>\n",
       "<table border=\"1\" class=\"dataframe\">\n",
       "  <thead>\n",
       "    <tr style=\"text-align: right;\">\n",
       "      <th></th>\n",
       "      <th>type</th>\n",
       "      <th>body</th>\n",
       "    </tr>\n",
       "  </thead>\n",
       "  <tbody>\n",
       "    <tr>\n",
       "      <th>0</th>\n",
       "      <td>SPAM</td>\n",
       "      <td>alertamos sobre estafa con pagos en codigo cif...</td>\n",
       "    </tr>\n",
       "    <tr>\n",
       "      <th>1</th>\n",
       "      <td>SPAM</td>\n",
       "      <td>cod de acceso de microsoft &lt;NUMBER&gt;</td>\n",
       "    </tr>\n",
       "    <tr>\n",
       "      <th>2</th>\n",
       "      <td>SPAM</td>\n",
       "      <td>tu bono de &lt;NUMBER&gt; mb ha expirado o consumist...</td>\n",
       "    </tr>\n",
       "    <tr>\n",
       "      <th>3</th>\n",
       "      <td>SPAM</td>\n",
       "      <td>sin saldo llama al &lt;NUMBER&gt; y sigue comunicand...</td>\n",
       "    </tr>\n",
       "    <tr>\n",
       "      <th>4</th>\n",
       "      <td>SPAM</td>\n",
       "      <td>adelantamos la navidad en claro usa s &lt;NUMBER&gt;...</td>\n",
       "    </tr>\n",
       "  </tbody>\n",
       "</table>\n",
       "</div>"
      ],
      "text/plain": [
       "   type                                               body\n",
       "0  SPAM  alertamos sobre estafa con pagos en codigo cif...\n",
       "1  SPAM                cod de acceso de microsoft <NUMBER>\n",
       "2  SPAM  tu bono de <NUMBER> mb ha expirado o consumist...\n",
       "3  SPAM  sin saldo llama al <NUMBER> y sigue comunicand...\n",
       "4  SPAM  adelantamos la navidad en claro usa s <NUMBER>..."
      ]
     },
     "execution_count": 3,
     "metadata": {},
     "output_type": "execute_result"
    }
   ],
   "source": [
    "\n",
    "import pandas as pd\n",
    "import re\n",
    "import torch\n",
    "import matplotlib.pyplot as plt\n",
    "import seaborn as sns\n",
    "import torch.nn as nn\n",
    "import torch.optim as optim\n",
    "from torch.utils.data import Dataset, DataLoader, random_split\n",
    "from sklearn.model_selection import train_test_split\n",
    "from sklearn.feature_extraction.text import TfidfVectorizer\n",
    "from sklearn.metrics import classification_report, confusion_matrix, accuracy_score\n",
    "import joblib\n",
    "\n",
    "\n",
    "df = pd.read_csv(\"DATA.csv\", encoding=\"latin-1\")  \n",
    "\n",
    "df.head()\n"
   ]
  },
  {
   "cell_type": "code",
   "execution_count": 4,
   "id": "ce7cecbb",
   "metadata": {},
   "outputs": [
    {
     "data": {
      "text/html": [
       "<div>\n",
       "<style scoped>\n",
       "    .dataframe tbody tr th:only-of-type {\n",
       "        vertical-align: middle;\n",
       "    }\n",
       "\n",
       "    .dataframe tbody tr th {\n",
       "        vertical-align: top;\n",
       "    }\n",
       "\n",
       "    .dataframe thead th {\n",
       "        text-align: right;\n",
       "    }\n",
       "</style>\n",
       "<table border=\"1\" class=\"dataframe\">\n",
       "  <thead>\n",
       "    <tr style=\"text-align: right;\">\n",
       "      <th></th>\n",
       "      <th>type</th>\n",
       "      <th>body</th>\n",
       "      <th>label</th>\n",
       "    </tr>\n",
       "  </thead>\n",
       "  <tbody>\n",
       "    <tr>\n",
       "      <th>0</th>\n",
       "      <td>SPAM</td>\n",
       "      <td>alertamos sobre estafa con pagos en codigo cif...</td>\n",
       "      <td>1</td>\n",
       "    </tr>\n",
       "    <tr>\n",
       "      <th>1</th>\n",
       "      <td>SPAM</td>\n",
       "      <td>cod de acceso de microsoft number</td>\n",
       "      <td>1</td>\n",
       "    </tr>\n",
       "    <tr>\n",
       "      <th>2</th>\n",
       "      <td>SPAM</td>\n",
       "      <td>tu bono de number mb ha expirado o consumiste ...</td>\n",
       "      <td>1</td>\n",
       "    </tr>\n",
       "    <tr>\n",
       "      <th>3</th>\n",
       "      <td>SPAM</td>\n",
       "      <td>sin saldo llama al number y sigue comunicandot...</td>\n",
       "      <td>1</td>\n",
       "    </tr>\n",
       "    <tr>\n",
       "      <th>4</th>\n",
       "      <td>SPAM</td>\n",
       "      <td>adelantamos la navidad en claro usa s number d...</td>\n",
       "      <td>1</td>\n",
       "    </tr>\n",
       "  </tbody>\n",
       "</table>\n",
       "</div>"
      ],
      "text/plain": [
       "   type                                               body  label\n",
       "0  SPAM  alertamos sobre estafa con pagos en codigo cif...      1\n",
       "1  SPAM                  cod de acceso de microsoft number      1\n",
       "2  SPAM  tu bono de number mb ha expirado o consumiste ...      1\n",
       "3  SPAM  sin saldo llama al number y sigue comunicandot...      1\n",
       "4  SPAM  adelantamos la navidad en claro usa s number d...      1"
      ]
     },
     "execution_count": 4,
     "metadata": {},
     "output_type": "execute_result"
    }
   ],
   "source": [
    "\n",
    "df = df.dropna(subset=['body'])\n",
    "df['body'] = df['body'].astype(str)\n",
    "\n",
    "# Función de limpieza\n",
    "def clean_text(text):\n",
    "    text = text.lower()                     # minúsculas\n",
    "    text = re.sub(r'\\d+', ' ', text)       # eliminar números\n",
    "    text = re.sub(r'\\W+', ' ', text)       # eliminar símbolos\n",
    "    text = re.sub(r'\\s+', ' ', text)       # eliminar espacios extra\n",
    "    return text.strip()\n",
    "\n",
    "# Aplicar limpieza\n",
    "df['body'] = df['body'].apply(clean_text)\n",
    "\n",
    "# Mapear etiquetas: HAM=0, SPAM=1\n",
    "df['label'] = df['type'].map({\"HAM\": 0, \"SPAM\": 1})\n",
    "\n",
    "df.head()\n"
   ]
  },
  {
   "cell_type": "code",
   "execution_count": 5,
   "id": "45f47554",
   "metadata": {},
   "outputs": [
    {
     "name": "stderr",
     "output_type": "stream",
     "text": [
      "C:\\Users\\ALEX\\AppData\\Local\\Temp\\ipykernel_17728\\1811444455.py:1: FutureWarning: \n",
      "\n",
      "Passing `palette` without assigning `hue` is deprecated and will be removed in v0.14.0. Assign the `x` variable to `hue` and set `legend=False` for the same effect.\n",
      "\n",
      "  sns.countplot(data=df, x=\"type\", palette=\"Set2\")\n"
     ]
    },
    {
     "data": {
      "image/png": "[encoded data removed]",
      "text/plain": [
       "<Figure size 640x480 with 1 Axes>"
      ]
     },
     "metadata": {},
     "output_type": "display_data"
    }
   ],
   "source": [
    "sns.countplot(data=df, x=\"type\", palette=\"Set2\")\n",
    "plt.title(\"Distribución de Clases (HAM vs SPAM)\")\n",
    "plt.show()"
   ]
  },
  {
   "cell_type": "code",
   "execution_count": 7,
   "id": "eb5cafb1",
   "metadata": {},
   "outputs": [
    {
     "data": {
      "image/png": "[encoded data removed]",
      "text/plain": [
       "<Figure size 640x480 with 1 Axes>"
      ]
     },
     "metadata": {},
     "output_type": "display_data"
    }
   ],
   "source": [
    "# Longitud de los mensajes\n",
    "df['char_len'] = df['body'].astype(str).apply(len)\n",
    "df['word_count'] = df['body'].astype(str).apply(lambda x: len(x.split()))\n",
    "\n",
    "sns.histplot(df['char_len'], bins=50, kde=True)\n",
    "plt.title(\"Distribución de longitud de caracteres\")\n",
    "plt.show()\n",
    "\n"
   ]
  },
  {
   "cell_type": "code",
   "execution_count": 8,
   "id": "8e9637dd",
   "metadata": {},
   "outputs": [
    {
     "name": "stdout",
     "output_type": "stream",
     "text": [
      "Shape train: (10012, 5000)\n",
      "Shape test: (2504, 5000)\n"
     ]
    }
   ],
   "source": [
    "X = df[\"body\"]\n",
    "y = df[\"label\"]\n",
    "\n",
    "# Dividir train/test\n",
    "X_train_texts, X_test_texts, y_train, y_test = train_test_split(\n",
    "    X, y, test_size=0.2, random_state=42, stratify=y\n",
    ")\n",
    "\n",
    "# Vectorización TF-IDF\n",
    "vectorizer = TfidfVectorizer(\n",
    "    max_features=5000,\n",
    "    min_df=5,\n",
    "    max_df=0.8,\n",
    "    ngram_range=(1,2)\n",
    ")\n",
    "\n",
    "X_train_vec = vectorizer.fit_transform(X_train_texts)\n",
    "X_test_vec = vectorizer.transform(X_test_texts)\n",
    "\n",
    "print(\"Shape train:\", X_train_vec.shape)\n",
    "print(\"Shape test:\", X_test_vec.shape)\n"
   ]
  },
  {
   "cell_type": "code",
   "execution_count": 9,
   "id": "d6d97261",
   "metadata": {},
   "outputs": [],
   "source": [
    "class SMSDataset(Dataset):\n",
    "    def __init__(self, X, y):\n",
    "        self.X = torch.tensor(X.toarray(), dtype=torch.float32)  # Convertir a tensor float\n",
    "        self.y = torch.tensor(y.values, dtype=torch.long)\n",
    "    \n",
    "    def __len__(self):\n",
    "        return len(self.y)\n",
    "    \n",
    "    def __getitem__(self, idx):\n",
    "        return self.X[idx], self.y[idx]\n",
    "\n",
    "# Crear datasets\n",
    "train_dataset = SMSDataset(X_train_vec, y_train)\n",
    "test_dataset = SMSDataset(X_test_vec, y_test)\n",
    "\n",
    "# DataLoaders\n",
    "batch_size = 64\n",
    "train_loader = DataLoader(train_dataset, batch_size=batch_size, shuffle=True)\n",
    "test_loader = DataLoader(test_dataset, batch_size=batch_size)\n"
   ]
  },
  {
   "cell_type": "code",
   "execution_count": 10,
   "id": "b1ffdae3",
   "metadata": {},
   "outputs": [],
   "source": [
    "class SpamClassifierNN(nn.Module):\n",
    "    def __init__(self, input_dim):\n",
    "        super(SpamClassifierNN, self).__init__()\n",
    "        self.fc1 = nn.Linear(input_dim, 128)\n",
    "        self.relu = nn.ReLU()\n",
    "        self.fc2 = nn.Linear(128, 64)\n",
    "        self.fc3 = nn.Linear(64, 2)  # 2 clases: HAM y SPAM\n",
    "    \n",
    "    def forward(self, x):\n",
    "        x = self.fc1(x)\n",
    "        x = self.relu(x)\n",
    "        x = self.fc2(x)\n",
    "        x = self.relu(x)\n",
    "        x = self.fc3(x)\n",
    "        return x\n",
    "\n",
    "input_dim = X_train_vec.shape[1]\n",
    "model = SpamClassifierNN(input_dim)\n"
   ]
  },
  {
   "cell_type": "code",
   "execution_count": 11,
   "id": "92edc84e",
   "metadata": {},
   "outputs": [],
   "source": [
    "criterion = nn.CrossEntropyLoss()  # para clasificación multi-clase\n",
    "optimizer = optim.Adam(model.parameters(), lr=0.001)\n"
   ]
  },
  {
   "cell_type": "code",
   "execution_count": 18,
   "id": "d42dd873",
   "metadata": {},
   "outputs": [
    {
     "name": "stdout",
     "output_type": "stream",
     "text": [
      "Epoch 1/10, Loss: 0.0079\n",
      "Epoch 2/10, Loss: 0.0078\n",
      "Epoch 3/10, Loss: 0.0076\n",
      "Epoch 4/10, Loss: 0.0076\n",
      "Epoch 5/10, Loss: 0.0073\n",
      "Epoch 6/10, Loss: 0.0073\n",
      "Epoch 7/10, Loss: 0.0072\n",
      "Epoch 8/10, Loss: 0.0072\n",
      "Epoch 9/10, Loss: 0.0071\n",
      "Epoch 10/10, Loss: 0.0072\n"
     ]
    }
   ],
   "source": [
    "epochs = 10\n",
    "\n",
    "for epoch in range(epochs):\n",
    "    model.train()\n",
    "    running_loss = 0.0\n",
    "    for X_batch, y_batch in train_loader:\n",
    "        optimizer.zero_grad()\n",
    "        outputs = model(X_batch)\n",
    "        loss = criterion(outputs, y_batch)\n",
    "        loss.backward()\n",
    "        optimizer.step()\n",
    "        running_loss += loss.item()\n",
    "    \n",
    "    print(f\"Epoch {epoch+1}/{epochs}, Loss: {running_loss/len(train_loader):.4f}\")\n"
   ]
  },
  {
   "cell_type": "code",
   "execution_count": 19,
   "id": "0c1f1a1c",
   "metadata": {},
   "outputs": [
    {
     "name": "stdout",
     "output_type": "stream",
     "text": [
      "Accuracy: 0.9888178913738019\n",
      "\n",
      "Reporte de clasificación:\n",
      "\n",
      "              precision    recall  f1-score   support\n",
      "\n",
      "         HAM       0.98      0.99      0.99      1212\n",
      "        SPAM       0.99      0.99      0.99      1292\n",
      "\n",
      "    accuracy                           0.99      2504\n",
      "   macro avg       0.99      0.99      0.99      2504\n",
      "weighted avg       0.99      0.99      0.99      2504\n",
      "\n",
      "Matriz de confusión:\n",
      " [[1203    9]\n",
      " [  19 1273]]\n"
     ]
    }
   ],
   "source": [
    "model.eval()\n",
    "all_preds = []\n",
    "all_labels = []\n",
    "\n",
    "with torch.no_grad():\n",
    "    for X_batch, y_batch in test_loader:\n",
    "        outputs = model(X_batch)\n",
    "        _, preds = torch.max(outputs, 1)\n",
    "        all_preds.extend(preds.tolist())\n",
    "        all_labels.extend(y_batch.tolist())\n",
    "\n",
    "# Métricas\n",
    "print(\"Accuracy:\", accuracy_score(all_labels, all_preds))\n",
    "print(\"\\nReporte de clasificación:\\n\")\n",
    "print(classification_report(all_labels, all_preds, target_names=['HAM','SPAM']))\n",
    "print(\"Matriz de confusión:\\n\", confusion_matrix(all_labels, all_preds))\n"
   ]
  },
  {
   "cell_type": "code",
   "execution_count": 20,
   "id": "7c3d50d0",
   "metadata": {},
   "outputs": [],
   "source": [
    "mensajes_nuevos = [\n",
    "    \"Gana dinero fácil desde casa, haz clic aquí\",\n",
    "    \"Hola, nos vemos mañana en la reunión\",\n",
    "    \"Felicidades! Has ganado un bono de 500 soles\",\n",
    "    \"Recuerda enviar el reporte antes del lunes\"\n",
    "]\n",
    "\n",
    "labels_reales = [1, 0, 1, 0]  # SPAM=1, HAM=0\n"
   ]
  },
  {
   "cell_type": "code",
   "execution_count": 21,
   "id": "71b21de6",
   "metadata": {},
   "outputs": [
    {
     "name": "stdout",
     "output_type": "stream",
     "text": [
      "Predicciones: ['SPAM', 'HAM', 'SPAM', 'HAM']\n"
     ]
    }
   ],
   "source": [
    "# Vectorizar\n",
    "X_new_vec = vectorizer.transform(mensajes_nuevos)\n",
    "X_new_tensor = torch.tensor(X_new_vec.toarray(), dtype=torch.float32)\n",
    "\n",
    "model.eval()\n",
    "with torch.no_grad():\n",
    "    outputs = model(X_new_tensor)\n",
    "    preds = torch.argmax(outputs, dim=1).tolist()\n",
    "\n",
    "print(\"Predicciones:\", [\"SPAM\" if p==1 else \"HAM\" for p in preds])\n"
   ]
  },
  {
   "cell_type": "code",
   "execution_count": 22,
   "id": "75612a1b",
   "metadata": {},
   "outputs": [
    {
     "name": "stdout",
     "output_type": "stream",
     "text": [
      "F1-score en mensajes nuevos: 1.0\n",
      "Accuracy en mensajes nuevos: 1.0\n"
     ]
    }
   ],
   "source": [
    "from sklearn.metrics import f1_score, accuracy_score\n",
    "\n",
    "f1_new = f1_score(labels_reales, preds)\n",
    "acc_new = accuracy_score(labels_reales, preds)\n",
    "\n",
    "print(\"F1-score en mensajes nuevos:\", f1_new)\n",
    "print(\"Accuracy en mensajes nuevos:\", acc_new)\n"
   ]
  },
  {
   "cell_type": "code",
   "execution_count": 23,
   "id": "0294989c",
   "metadata": {},
   "outputs": [
    {
     "name": "stdout",
     "output_type": "stream",
     "text": [
      "Modelo y vectorizador guardados correctamente.\n"
     ]
    }
   ],
   "source": [
    "import torch\n",
    "import joblib\n",
    "\n",
    "# Guardar modelo PyTorch\n",
    "torch.save(model.state_dict(), 'spam_classifier_pytorch.pt')\n",
    "\n",
    "# Guardar vectorizador TF-IDF\n",
    "joblib.dump(vectorizer, 'tfidf_vectorizer.pkl')\n",
    "\n",
    "print(\"Modelo y vectorizador guardados correctamente.\")\n"
   ]
  }
 ],
 "metadata": {
  "kernelspec": {
   "display_name": "venv",
   "language": "python",
   "name": "python3"
  },
  "language_info": {
   "codemirror_mode": {
    "name": "ipython",
    "version": 3
   },
   "file_extension": ".py",
   "mimetype": "text/x-python",
   "name": "python",
   "nbconvert_exporter": "python",
   "pygments_lexer": "ipython3",
   "version": "3.13.5"
  }
 },
 "nbformat": 4,
 "nbformat_minor": 5
}
